{
 "cells": [
  {
   "cell_type": "markdown",
   "metadata": {},
   "source": [
    "### The questions for the exercises are given above the cells and the expected output is given below the cell. Please type the code inserting a new cell below the question because if you run the expected output cell the output would vanish! Happy learning! "
   ]
  },
  {
   "cell_type": "markdown",
   "metadata": {},
   "source": [
    "## 1. Write a Python program to find those numbers which are divisible by 7 and multiple of 5, between 1500 and 2700 (both included). "
   ]
  },
  {
   "cell_type": "markdown",
   "metadata": {},
   "source": [
    "' 1505,1540,1575,1610,1645,1680,1715,1750,1785,1820,1855,1890,1925,1960,1995,2030,2065,2100,2135,2170,2205,2240,2275,2310,2345,2380,2415,2450,2485,2520,2555,2590,2625,2660,2695 \\n'"
   ]
  },
  {
   "cell_type": "code",
   "execution_count": 144,
   "metadata": {},
   "outputs": [
    {
     "name": "stdout",
     "output_type": "stream",
     "text": [
      "1505,1540,1575,1610,1645,1680,1715,1750,1785,1820,1855,1890,1925,1960,1995,2030,2065,2100,2135,2170,2205,2240,2275,2310,2345,2380,2415,2450,2485,2520,2555,2590,2625,2660,2695\n"
     ]
    }
   ],
   "source": [
    "sample = ''\n",
    "for i in range(1500,2701,5):\n",
    "    if(i%7==0):\n",
    "        if len(sample) > 0:\n",
    "            sample = sample + ',' + str(i)\n",
    "        else:\n",
    "            sample = str(i)\n",
    "print(sample)"
   ]
  },
  {
   "cell_type": "markdown",
   "metadata": {},
   "source": [
    "# 2. Write a Python program to construct the following pattern, using a nested for loop.\n"
   ]
  },
  {
   "cell_type": "code",
   "execution_count": 3,
   "metadata": {},
   "outputs": [
    {
     "name": "stdout",
     "output_type": "stream",
     "text": [
      "\n",
      "* \n",
      "* * \n",
      "* * * \n",
      "* * * * \n",
      "* * * * * \n",
      "* * * * \n",
      "* * * \n",
      "* * \n",
      "* \n"
     ]
    }
   ],
   "source": []
  },
  {
   "cell_type": "code",
   "execution_count": 12,
   "metadata": {},
   "outputs": [
    {
     "name": "stdout",
     "output_type": "stream",
     "text": [
      "Enter the even number of lines you want:::16\n",
      "\n",
      "* \n",
      "* * \n",
      "* * * \n",
      "* * * * \n",
      "* * * * * \n",
      "* * * * * * \n",
      "* * * * * * * \n",
      "* * * * * * * * \n",
      "* * * * * * * \n",
      "* * * * * * \n",
      "* * * * * \n",
      "* * * * \n",
      "* * * \n",
      "* * \n",
      "* "
     ]
    }
   ],
   "source": [
    "number = int(input(\"Enter the even number of lines you want:::\"))\n",
    "for i in range(1,number):\n",
    "    print()\n",
    "    if i < (number/2)+1:\n",
    "        k =1\n",
    "        while k <= i:\n",
    "            print('* ',end='')\n",
    "            k=k+1\n",
    "    elif i > (number/2):\n",
    "        k=number\n",
    "        while k > i :\n",
    "            print('* ',end='')\n",
    "            k=k-1"
   ]
  },
  {
   "cell_type": "markdown",
   "metadata": {},
   "source": [
    "## 3. Write a Python program to count the number of even and odd numbers from a series of numbers."
   ]
  },
  {
   "cell_type": "code",
   "execution_count": 13,
   "metadata": {},
   "outputs": [],
   "source": [
    "#Number of even numbers : 4\n",
    "#Number of odd numbers : 5"
   ]
  },
  {
   "cell_type": "code",
   "execution_count": 20,
   "metadata": {},
   "outputs": [
    {
     "name": "stdout",
     "output_type": "stream",
     "text": [
      "Enter the number:::10\n",
      "Number of even numbers::: 4\n",
      "Number of odd numbers::: 5\n"
     ]
    }
   ],
   "source": [
    "number = int(input(\"Enter the number:::\"))\n",
    "even = 0\n",
    "odd = 0\n",
    "for i in range(1,number):\n",
    "    if i%2 == 0:\n",
    "        even = even+1\n",
    "    else:\n",
    "        odd = odd+1\n",
    "\n",
    "print(\"Number of even numbers:::\",even)\n",
    "print(\"Number of odd numbers:::\",odd)"
   ]
  },
  {
   "cell_type": "markdown",
   "metadata": {},
   "source": [
    "## 4. Write a Python program to find numbers between 100 and 400 (both included) where each digit of a number is an even number. The numbers obtained should be printed in a comma-separated sequence."
   ]
  },
  {
   "cell_type": "code",
   "execution_count": 21,
   "metadata": {},
   "outputs": [],
   "source": [
    "#200,202,204,206,208,220,222,224,226,228,240,242,244,246,248,260,262,264,266,268,280,282,284,286,288,400"
   ]
  },
  {
   "cell_type": "code",
   "execution_count": 5,
   "metadata": {},
   "outputs": [
    {
     "name": "stdout",
     "output_type": "stream",
     "text": [
      "200,202,204,206,208,220,222,224,226,228,240,242,244,246,248,260,262,264,266,268,280,282,284,286,288,400\n"
     ]
    }
   ],
   "source": [
    "sample = ''\n",
    "for i in range(100,401,2):\n",
    "    i = str(i)\n",
    "    if int(i[0])%2 == 0 and int(i[1])%2 == 0 and int(i[2])%2==0:\n",
    "        if len(sample) > 0:\n",
    "            sample = sample +','+i\n",
    "        else:\n",
    "             sample=str(i)\n",
    "print(sample)\n",
    "        "
   ]
  },
  {
   "cell_type": "markdown",
   "metadata": {},
   "source": [
    "## 5. Write a Python program to calculate a dog's age in dog's years. Go to the editor\n",
    "Note: For the first two years, a dog year is equal to 10.5 human years. After that, each dog year equals 4 human years."
   ]
  },
  {
   "cell_type": "code",
   "execution_count": 6,
   "metadata": {},
   "outputs": [
    {
     "name": "stdout",
     "output_type": "stream",
     "text": [
      "enter dog age in human years::3\n",
      "The dog age in human years::: 3\n",
      "The dog age in dog's years::: 25\n"
     ]
    }
   ],
   "source": [
    "#Input a dog's age in human years: 20\n",
    "#The dog's age in dog's years is 93\n",
    "\n",
    "humanYears=int(input('enter dog age in human years::'))\n",
    "dogYears = 0\n",
    "if humanYears <=2:\n",
    "    dogYears = 10.5 * humanYears\n",
    "elif humanYears > 2:\n",
    "    dogYears = 21 + ((humanYears-2) * 4)\n",
    "print(\"The dog age in human years:::\",humanYears)\n",
    "print(\"The dog age in dog's years:::\",dogYears)"
   ]
  },
  {
   "cell_type": "markdown",
   "metadata": {},
   "source": [
    "## 6. Write a Python function to find the Max of three numbers."
   ]
  },
  {
   "cell_type": "code",
   "execution_count": 7,
   "metadata": {},
   "outputs": [
    {
     "name": "stdout",
     "output_type": "stream",
     "text": [
      "Enter the 1st number:::3\n",
      "Enter the 2nd number:::-100\n",
      "Enter the 3rd number:::200\n",
      "200\n"
     ]
    }
   ],
   "source": [
    "#The Three numbers are: (3, 6, -5)\n",
    "#6\n",
    "number1=int(input(\"Enter the 1st number:::\"))\n",
    "number2=int(input(\"Enter the 2nd number:::\"))\n",
    "number3=int(input(\"Enter the 3rd number:::\"))\n",
    "print(max(number1,number2,number3))"
   ]
  },
  {
   "cell_type": "markdown",
   "metadata": {},
   "source": [
    "## 7. Write a Python function that takes a number as a parameter and check the number is prime or not."
   ]
  },
  {
   "cell_type": "code",
   "execution_count": 22,
   "metadata": {},
   "outputs": [
    {
     "name": "stdout",
     "output_type": "stream",
     "text": [
      "Enter a positive integer::33\n",
      "False\n"
     ]
    }
   ],
   "source": [
    "number=int(input(\"Enter a positive integer::\"))\n",
    "count = 0\n",
    "if number > 1:\n",
    "    for i in range(2,number):\n",
    "        if number%i == 0:\n",
    "            count = count +1\n",
    "else:\n",
    "    print(\"False\")\n",
    "    \n",
    "print(\"True\") if count == 0 else print(\"False\")"
   ]
  },
  {
   "cell_type": "markdown",
   "metadata": {},
   "source": [
    "## 8. Write a Python function that accepts a string and calculate the number of upper case letters and lower case letters. Go to the editor\n"
   ]
  },
  {
   "cell_type": "code",
   "execution_count": 23,
   "metadata": {},
   "outputs": [],
   "source": [
    "#Original String :  Inceptz is One of The BeSt Places TO LEarn DataSciEnce\n",
    "#No. of Upper case characters :  13\n",
    "#No. of Lower case Characters :  32"
   ]
  },
  {
   "cell_type": "code",
   "execution_count": 28,
   "metadata": {},
   "outputs": [
    {
     "name": "stdout",
     "output_type": "stream",
     "text": [
      "Enter the string value:::Inceptz is One of The BeSt Places TO LEarn DataSciEnce\n",
      "No. of Upper case characters : 13\n",
      "No. of Lower case Characters : 32\n"
     ]
    }
   ],
   "source": [
    "sample = input(\"Enter the string value:::\")\n",
    "upperCount=0\n",
    "lowerCount=0\n",
    "for i in sample.replace(' ',''):\n",
    "    if i == i.upper():\n",
    "        upperCount = upperCount+1\n",
    "    elif i == i.lower():\n",
    "        lowerCount=lowerCount+1\n",
    "print(\"No. of Upper case characters :\",upperCount)\n",
    "print(\"No. of Lower case Characters :\",lowerCount)"
   ]
  },
  {
   "cell_type": "markdown",
   "metadata": {},
   "source": [
    "## 9. Write a Python program to reverse a string. "
   ]
  },
  {
   "cell_type": "code",
   "execution_count": 33,
   "metadata": {},
   "outputs": [
    {
     "name": "stdout",
     "output_type": "stream",
     "text": [
      "Enter the original string:::saaddsfwegwrg\n",
      "Reversed string::: grwgewfsddaas\n"
     ]
    }
   ],
   "source": [
    "sample = input(\"Enter the original string:::\")\n",
    "print(\"Reversed string:::\",sample[::-1])"
   ]
  },
  {
   "cell_type": "markdown",
   "metadata": {},
   "source": [
    "## 10. Write a Python program to find  the greatest common divisor (gcd) of two integers."
   ]
  },
  {
   "cell_type": "code",
   "execution_count": 35,
   "metadata": {},
   "outputs": [
    {
     "name": "stdout",
     "output_type": "stream",
     "text": [
      "Enter number1:::99\n",
      "Enter number2:::66\n",
      "GCD::: 33\n"
     ]
    }
   ],
   "source": [
    "#The two numbers are: (12, 14)\n",
    "#The GCD of the numbers are: 2\n",
    "number1 = int(input(\"Enter number1:::\"))\n",
    "number2 = int(input(\"Enter number2:::\"))\n",
    "number3 = max(number1,number2)\n",
    "\n",
    "i=1\n",
    "gcd=1\n",
    "while i <=number3:\n",
    "    if number1%i == 0 and number2%i == 0:\n",
    "        gcd = i\n",
    "    i=i+1\n",
    "    \n",
    "print(\"GCD:::\",gcd)\n",
    "        \n",
    "\n"
   ]
  }
 ],
 "metadata": {
  "kernelspec": {
   "display_name": "Python 3",
   "language": "python",
   "name": "python3"
  },
  "language_info": {
   "codemirror_mode": {
    "name": "ipython",
    "version": 3
   },
   "file_extension": ".py",
   "mimetype": "text/x-python",
   "name": "python",
   "nbconvert_exporter": "python",
   "pygments_lexer": "ipython3",
   "version": "3.7.6"
  }
 },
 "nbformat": 4,
 "nbformat_minor": 4
}
