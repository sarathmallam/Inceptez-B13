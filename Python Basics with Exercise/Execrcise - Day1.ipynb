{
 "cells": [
  {
   "cell_type": "markdown",
   "metadata": {},
   "source": [
    "### The questions for the exercises are given above the cells and the expected output is given below the cell. Please type the code inserting a new cell below the question because if you run the expected output cell the output would vanish! Happy learning! "
   ]
  },
  {
   "cell_type": "markdown",
   "metadata": {},
   "source": [
    "## Exercise Question 1: Given an input list removes the element at index 4 and add it to the 2nd position and also, at the end of the list\n",
    "\n",
    "For example: List = [54, 44, 27, 79, 91, 41]"
   ]
  },
  {
   "cell_type": "code",
   "execution_count": 3,
   "metadata": {},
   "outputs": [],
   "source": [
    "#Original list  [34, 54, 67, 89, 11, 43, 94]\n",
    "#List After removing element at index 4  [34, 54, 67, 89, 43, 94]\n",
    "#List after Adding element at index 2  [34, 54, 11, 67, 89, 43, 94]\n",
    "#List after Adding element at last  [34, 54, 11, 67, 89, 43, 94, 11]"
   ]
  },
  {
   "cell_type": "code",
   "execution_count": 19,
   "metadata": {},
   "outputs": [
    {
     "name": "stdout",
     "output_type": "stream",
     "text": [
      "List After removing element at index 4 [34, 54, 67, 89, 43, 94]\n",
      "List after Adding element at index 2 [34, 54, 11, 67, 89, 43, 94]\n",
      "List after Adding element at last [34, 54, 11, 67, 89, 43, 94, 11]\n"
     ]
    }
   ],
   "source": [
    "list = [34,54,67,89,11,43,94]\n",
    "list.remove(11)\n",
    "print(\"List After removing element at index 4\",list)\n",
    "list.insert(2,11)\n",
    "print(\"List after Adding element at index 2\",list)\n",
    "list.append(11) #list.extend([11])\n",
    "print(\"List after Adding element at last\",list)"
   ]
  },
  {
   "cell_type": "markdown",
   "metadata": {},
   "source": [
    "## Exercise Question 2: Given a two list of equal size create a list of unique elements from both the lists into a seperate list"
   ]
  },
  {
   "cell_type": "code",
   "execution_count": 21,
   "metadata": {
    "scrolled": true
   },
   "outputs": [],
   "source": [
    "#First List  [2, 3, 4, 5, 6, 7, 8]\n",
    "#Second List  [4, 9, 16, 25, 36, 49, 64]\n",
    "#[64, 2, 3, 4, 5, 6, 7, 8, 9, 36, 16, 49, 25]"
   ]
  },
  {
   "cell_type": "code",
   "execution_count": 65,
   "metadata": {},
   "outputs": [
    {
     "name": "stdout",
     "output_type": "stream",
     "text": [
      "list1: [2, 3, 4, 5, 6, 7, 8]\n",
      "list2: [4, 9, 16, 25, 36, 49, 64]\n",
      "list4: [64, 2, 3, 4, 5, 6, 7, 8, 9, 36, 16, 49, 25]\n"
     ]
    }
   ],
   "source": [
    "list1 = [2, 3, 4, 5, 6, 7, 8]\n",
    "list2 = [4, 9, 16, 25, 36, 49, 64]\n",
    "print(\"list1:\",list1)\n",
    "print(\"list2:\",list2)\n",
    "list3 = list1+list2\n",
    "set1 = set(list3)\n",
    "list4 = []\n",
    "list4.extend(set1)\n",
    "print(\"list4:\",list4)"
   ]
  },
  {
   "cell_type": "markdown",
   "metadata": {},
   "source": [
    "## Exercise Question 3: Remove duplicate from a list and create a tuple and find the minimum and maximum number (Hint: Try Functions Min() and Max() ) "
   ]
  },
  {
   "cell_type": "code",
   "execution_count": 77,
   "metadata": {},
   "outputs": [
    {
     "name": "stdout",
     "output_type": "stream",
     "text": [
      "Tuple with unique values: (64, 2, 3, 4, 5, 6, 7, 8, 9, 36, 11, 16, 49, 25)\n",
      "Min value: 2\n",
      "Max value: 64\n"
     ]
    }
   ],
   "source": [
    "list1 = [64, 2, 3, 4,11,2,4,6,7, 5, 6, 7, 8, 9, 36, 16, 49, 25]\n",
    "set1 = set(list1)\n",
    "tuple1 = tuple(set1)\n",
    "print(\"Tuple with unique values:\",tuple1)\n",
    "print(\"Min value:\",min(tuple1))\n",
    "print(\"Max value:\",max(tuple1))"
   ]
  },
  {
   "cell_type": "markdown",
   "metadata": {},
   "source": [
    "## Exercise Question 4: Display the each word in the string Count the number of words in a string and display it (Including the white spaces) "
   ]
  },
  {
   "cell_type": "code",
   "execution_count": 19,
   "metadata": {},
   "outputs": [
    {
     "name": "stdout",
     "output_type": "stream",
     "text": [
      "w h a t ' s   u p ?\n"
     ]
    }
   ],
   "source": [
    "#Printing each words seperately \n",
    "a = \"what's up?\"\n",
    "print(*a)"
   ]
  },
  {
   "cell_type": "code",
   "execution_count": 78,
   "metadata": {},
   "outputs": [],
   "source": [
    "#The sample string: Welcome to Python\n",
    "#Printing each words seperately:  W e l c o m e   t o   P y t h o n\n",
    "#The Length of the string 17"
   ]
  },
  {
   "cell_type": "code",
   "execution_count": 94,
   "metadata": {},
   "outputs": [
    {
     "name": "stdout",
     "output_type": "stream",
     "text": [
      "W e l c o m e   t o   P y t h o n\n",
      "The Length of the string: 17\n"
     ]
    }
   ],
   "source": [
    "sample = \"Welcome to Python\"\n",
    "print(*sample)\n",
    "print(\"The Length of the string:\",len(sample))"
   ]
  },
  {
   "cell_type": "markdown",
   "metadata": {},
   "source": [
    "##  Exercise Question 5: Write a Python program to access dictionary keys element by index. i.e. Use indexing methods to print the first key"
   ]
  },
  {
   "cell_type": "code",
   "execution_count": 95,
   "metadata": {},
   "outputs": [],
   "source": [
    "#The dictionary is:  {'physics': 80, 'math': 90, 'chemistry': 86}\n",
    "#The key element accesed by index:  physics"
   ]
  },
  {
   "cell_type": "code",
   "execution_count": 134,
   "metadata": {},
   "outputs": [
    {
     "name": "stdout",
     "output_type": "stream",
     "text": [
      "The key element accesed by index: physics\n"
     ]
    }
   ],
   "source": [
    "dic1 = {'physics': 80, 'math': 90, 'chemistry': 86}\n",
    "list = [(key,value) for key,value in dic1.items()] \n",
    "print(\"The key element accesed by index:\",list[0][0])"
   ]
  },
  {
   "cell_type": "code",
   "execution_count": null,
   "metadata": {},
   "outputs": [],
   "source": []
  }
 ],
 "metadata": {
  "kernelspec": {
   "display_name": "Python 3",
   "language": "python",
   "name": "python3"
  },
  "language_info": {
   "codemirror_mode": {
    "name": "ipython",
    "version": 3
   },
   "file_extension": ".py",
   "mimetype": "text/x-python",
   "name": "python",
   "nbconvert_exporter": "python",
   "pygments_lexer": "ipython3",
   "version": "3.7.6"
  }
 },
 "nbformat": 4,
 "nbformat_minor": 4
}
